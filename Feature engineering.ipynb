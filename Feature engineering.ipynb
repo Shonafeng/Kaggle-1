{
 "cells": [
  {
   "cell_type": "code",
   "execution_count": 101,
   "metadata": {
    "collapsed": true
   },
   "outputs": [],
   "source": [
    "f = open('./data/train_ver2.csv','r')\n",
    "g = open('reduced_train.csv','w')\n",
    "\n",
    "for line in f:\n",
    "    date = line[:10]\n",
    "    if date in ['2016-05-28','2016-06-28','2015-05-28','2015-06-28']:\n",
    "        g.write(line)\n"
   ]
  },
  {
   "cell_type": "code",
   "execution_count": 7,
   "metadata": {
    "collapsed": true
   },
   "outputs": [],
   "source": [
    "with open('./data/train_ver2.csv','r') as f:\n",
    "    cols=f.readline().split(',')"
   ]
  },
  {
   "cell_type": "code",
   "execution_count": 8,
   "metadata": {
    "collapsed": true
   },
   "outputs": [],
   "source": [
    "cols =[s.replace('\"','') for s in cols]"
   ]
  },
  {
   "cell_type": "code",
   "execution_count": 121,
   "metadata": {
    "collapsed": false
   },
   "outputs": [],
   "source": [
    "import numpy as np \n",
    "import pandas as pd\n",
    "import math\n",
    "from matplotlib import pyplot as plt\n",
    "import seaborn as sns"
   ]
  },
  {
   "cell_type": "code",
   "execution_count": 18,
   "metadata": {
    "collapsed": false
   },
   "outputs": [],
   "source": [
    "train=pd.read_csv('./reduced_train.csv',dtype={'indrel_1mes':str,'conyuemp':str},names=cols)"
   ]
  },
  {
   "cell_type": "code",
   "execution_count": 13,
   "metadata": {
    "collapsed": false
   },
   "outputs": [
    {
     "data": {
      "text/html": [
       "<div>\n",
       "<table border=\"1\" class=\"dataframe\">\n",
       "  <thead>\n",
       "    <tr style=\"text-align: right;\">\n",
       "      <th></th>\n",
       "      <th>fecha_dato</th>\n",
       "      <th>ncodpers</th>\n",
       "      <th>ind_empleado</th>\n",
       "      <th>pais_residencia</th>\n",
       "      <th>sexo</th>\n",
       "      <th>age</th>\n",
       "      <th>fecha_alta</th>\n",
       "      <th>ind_nuevo</th>\n",
       "      <th>antiguedad</th>\n",
       "      <th>indrel</th>\n",
       "      <th>...</th>\n",
       "      <th>ind_hip_fin_ult1</th>\n",
       "      <th>ind_plan_fin_ult1</th>\n",
       "      <th>ind_pres_fin_ult1</th>\n",
       "      <th>ind_reca_fin_ult1</th>\n",
       "      <th>ind_tjcr_fin_ult1</th>\n",
       "      <th>ind_valo_fin_ult1</th>\n",
       "      <th>ind_viv_fin_ult1</th>\n",
       "      <th>ind_nomina_ult1</th>\n",
       "      <th>ind_nom_pens_ult1</th>\n",
       "      <th>ind_recibo_ult1</th>\n",
       "    </tr>\n",
       "  </thead>\n",
       "  <tbody>\n",
       "    <tr>\n",
       "      <th>0</th>\n",
       "      <td>2015-05-28</td>\n",
       "      <td>1061260</td>\n",
       "      <td>N</td>\n",
       "      <td>ES</td>\n",
       "      <td>H</td>\n",
       "      <td>24</td>\n",
       "      <td>2012-09-17</td>\n",
       "      <td>0.0</td>\n",
       "      <td>34</td>\n",
       "      <td>1.0</td>\n",
       "      <td>...</td>\n",
       "      <td>0.0</td>\n",
       "      <td>0.0</td>\n",
       "      <td>0.0</td>\n",
       "      <td>0.0</td>\n",
       "      <td>0.0</td>\n",
       "      <td>0.0</td>\n",
       "      <td>0.0</td>\n",
       "      <td>0.0</td>\n",
       "      <td>0.0</td>\n",
       "      <td>0.0</td>\n",
       "    </tr>\n",
       "    <tr>\n",
       "      <th>1</th>\n",
       "      <td>2015-05-28</td>\n",
       "      <td>1061283</td>\n",
       "      <td>N</td>\n",
       "      <td>ES</td>\n",
       "      <td>H</td>\n",
       "      <td>22</td>\n",
       "      <td>2012-09-17</td>\n",
       "      <td>0.0</td>\n",
       "      <td>34</td>\n",
       "      <td>1.0</td>\n",
       "      <td>...</td>\n",
       "      <td>0.0</td>\n",
       "      <td>0.0</td>\n",
       "      <td>0.0</td>\n",
       "      <td>0.0</td>\n",
       "      <td>0.0</td>\n",
       "      <td>0.0</td>\n",
       "      <td>0.0</td>\n",
       "      <td>0.0</td>\n",
       "      <td>0.0</td>\n",
       "      <td>0.0</td>\n",
       "    </tr>\n",
       "    <tr>\n",
       "      <th>2</th>\n",
       "      <td>2015-05-28</td>\n",
       "      <td>1061284</td>\n",
       "      <td>N</td>\n",
       "      <td>ES</td>\n",
       "      <td>H</td>\n",
       "      <td>24</td>\n",
       "      <td>2012-09-17</td>\n",
       "      <td>0.0</td>\n",
       "      <td>34</td>\n",
       "      <td>1.0</td>\n",
       "      <td>...</td>\n",
       "      <td>0.0</td>\n",
       "      <td>0.0</td>\n",
       "      <td>0.0</td>\n",
       "      <td>0.0</td>\n",
       "      <td>0.0</td>\n",
       "      <td>0.0</td>\n",
       "      <td>0.0</td>\n",
       "      <td>0.0</td>\n",
       "      <td>0.0</td>\n",
       "      <td>0.0</td>\n",
       "    </tr>\n",
       "    <tr>\n",
       "      <th>3</th>\n",
       "      <td>2015-05-28</td>\n",
       "      <td>1061336</td>\n",
       "      <td>N</td>\n",
       "      <td>ES</td>\n",
       "      <td>H</td>\n",
       "      <td>23</td>\n",
       "      <td>2012-09-17</td>\n",
       "      <td>0.0</td>\n",
       "      <td>34</td>\n",
       "      <td>1.0</td>\n",
       "      <td>...</td>\n",
       "      <td>0.0</td>\n",
       "      <td>0.0</td>\n",
       "      <td>0.0</td>\n",
       "      <td>0.0</td>\n",
       "      <td>0.0</td>\n",
       "      <td>0.0</td>\n",
       "      <td>0.0</td>\n",
       "      <td>0.0</td>\n",
       "      <td>0.0</td>\n",
       "      <td>0.0</td>\n",
       "    </tr>\n",
       "    <tr>\n",
       "      <th>4</th>\n",
       "      <td>2015-05-28</td>\n",
       "      <td>1061286</td>\n",
       "      <td>N</td>\n",
       "      <td>ES</td>\n",
       "      <td>V</td>\n",
       "      <td>29</td>\n",
       "      <td>2012-09-17</td>\n",
       "      <td>0.0</td>\n",
       "      <td>34</td>\n",
       "      <td>1.0</td>\n",
       "      <td>...</td>\n",
       "      <td>0.0</td>\n",
       "      <td>0.0</td>\n",
       "      <td>0.0</td>\n",
       "      <td>0.0</td>\n",
       "      <td>0.0</td>\n",
       "      <td>0.0</td>\n",
       "      <td>0.0</td>\n",
       "      <td>0.0</td>\n",
       "      <td>0.0</td>\n",
       "      <td>0.0</td>\n",
       "    </tr>\n",
       "  </tbody>\n",
       "</table>\n",
       "<p>5 rows × 48 columns</p>\n",
       "</div>"
      ],
      "text/plain": [
       "   fecha_dato  ncodpers ind_empleado pais_residencia sexo  age  fecha_alta  \\\n",
       "0  2015-05-28   1061260            N              ES    H   24  2012-09-17   \n",
       "1  2015-05-28   1061283            N              ES    H   22  2012-09-17   \n",
       "2  2015-05-28   1061284            N              ES    H   24  2012-09-17   \n",
       "3  2015-05-28   1061336            N              ES    H   23  2012-09-17   \n",
       "4  2015-05-28   1061286            N              ES    V   29  2012-09-17   \n",
       "\n",
       "   ind_nuevo antiguedad  indrel        ...         ind_hip_fin_ult1  \\\n",
       "0        0.0         34     1.0        ...                      0.0   \n",
       "1        0.0         34     1.0        ...                      0.0   \n",
       "2        0.0         34     1.0        ...                      0.0   \n",
       "3        0.0         34     1.0        ...                      0.0   \n",
       "4        0.0         34     1.0        ...                      0.0   \n",
       "\n",
       "  ind_plan_fin_ult1 ind_pres_fin_ult1 ind_reca_fin_ult1 ind_tjcr_fin_ult1  \\\n",
       "0               0.0               0.0               0.0               0.0   \n",
       "1               0.0               0.0               0.0               0.0   \n",
       "2               0.0               0.0               0.0               0.0   \n",
       "3               0.0               0.0               0.0               0.0   \n",
       "4               0.0               0.0               0.0               0.0   \n",
       "\n",
       "  ind_valo_fin_ult1 ind_viv_fin_ult1 ind_nomina_ult1  ind_nom_pens_ult1  \\\n",
       "0               0.0              0.0             0.0                0.0   \n",
       "1               0.0              0.0             0.0                0.0   \n",
       "2               0.0              0.0             0.0                0.0   \n",
       "3               0.0              0.0             0.0                0.0   \n",
       "4               0.0              0.0             0.0                0.0   \n",
       "\n",
       "   ind_recibo_ult1\\n  \n",
       "0                0.0  \n",
       "1                0.0  \n",
       "2                0.0  \n",
       "3                0.0  \n",
       "4                0.0  \n",
       "\n",
       "[5 rows x 48 columns]"
      ]
     },
     "execution_count": 13,
     "metadata": {},
     "output_type": "execute_result"
    }
   ],
   "source": [
    "train.head()"
   ]
  },
  {
   "cell_type": "code",
   "execution_count": 19,
   "metadata": {
    "collapsed": false
   },
   "outputs": [
    {
     "data": {
      "text/plain": [
       "2016-05-28    931453\n",
       "2015-06-28    632110\n",
       "2015-05-28    631957\n",
       "Name: fecha_dato, dtype: int64"
      ]
     },
     "execution_count": 19,
     "metadata": {},
     "output_type": "execute_result"
    }
   ],
   "source": [
    "train.fecha_dato.value_counts()"
   ]
  },
  {
   "cell_type": "code",
   "execution_count": 16,
   "metadata": {
    "collapsed": false
   },
   "outputs": [
    {
     "data": {
      "text/plain": [
       "fecha_dato                     0\n",
       "ncodpers                       0\n",
       "ind_empleado                5458\n",
       "pais_residencia             5458\n",
       "sexo                        5469\n",
       "age                            0\n",
       "fecha_alta                  5458\n",
       "ind_nuevo                   5458\n",
       "antiguedad                     0\n",
       "indrel                      5458\n",
       "ult_fec_cli_1t           2192082\n",
       "indrel_1mes                 9467\n",
       "tiprel_1mes                 9467\n",
       "indresi                     5458\n",
       "indext                      5458\n",
       "conyuemp                 2195228\n",
       "canal_entrada              12206\n",
       "indfall                     5458\n",
       "tipodom                     5458\n",
       "cod_prov                   16803\n",
       "nomprov                    16803\n",
       "ind_actividad_cliente       5458\n",
       "renta                     447375\n",
       "segmento                   12511\n",
       "ind_ahor_fin_ult1              1\n",
       "ind_aval_fin_ult1              1\n",
       "ind_cco_fin_ult1               1\n",
       "ind_cder_fin_ult1              1\n",
       "ind_cno_fin_ult1               1\n",
       "ind_ctju_fin_ult1              1\n",
       "ind_ctma_fin_ult1              1\n",
       "ind_ctop_fin_ult1              1\n",
       "ind_ctpp_fin_ult1              1\n",
       "ind_deco_fin_ult1              1\n",
       "ind_deme_fin_ult1              1\n",
       "ind_dela_fin_ult1              1\n",
       "ind_ecue_fin_ult1              1\n",
       "ind_fond_fin_ult1              1\n",
       "ind_hip_fin_ult1               1\n",
       "ind_plan_fin_ult1              1\n",
       "ind_pres_fin_ult1              1\n",
       "ind_reca_fin_ult1              1\n",
       "ind_tjcr_fin_ult1              1\n",
       "ind_valo_fin_ult1              1\n",
       "ind_viv_fin_ult1               1\n",
       "ind_nomina_ult1             4632\n",
       "ind_nom_pens_ult1           4632\n",
       "ind_recibo_ult1\\n              1\n",
       "dtype: int64"
      ]
     },
     "execution_count": 16,
     "metadata": {},
     "output_type": "execute_result"
    }
   ],
   "source": [
    "train.isnull().sum()"
   ]
  },
  {
   "cell_type": "markdown",
   "metadata": {},
   "source": [
    "### Data cleaning"
   ]
  },
  {
   "cell_type": "markdown",
   "metadata": {},
   "source": [
    "ind_nuevo - New customer Index. 1 if the customer registered in the last 6 months."
   ]
  },
  {
   "cell_type": "code",
   "execution_count": 23,
   "metadata": {
    "collapsed": false
   },
   "outputs": [
    {
     "data": {
      "text/plain": [
       "2"
      ]
     },
     "execution_count": 23,
     "metadata": {},
     "output_type": "execute_result"
    }
   ],
   "source": [
    "#ind_nuevo new customer indicator\n",
    "months_active=train.loc[train[\"ind_nuevo\"].isnull(),:].groupby(\"ncodpers\", sort=False).size()\n",
    "months_active.max()"
   ]
  },
  {
   "cell_type": "code",
   "execution_count": 24,
   "metadata": {
    "collapsed": true
   },
   "outputs": [],
   "source": [
    "train.loc[train[\"ind_nuevo\"].isnull(),\"ind_nuevo\"]=\"1\""
   ]
  },
  {
   "cell_type": "markdown",
   "metadata": {},
   "source": [
    "antiguedad - Customer seniority (in months)"
   ]
  },
  {
   "cell_type": "code",
   "execution_count": 26,
   "metadata": {
    "collapsed": false
   },
   "outputs": [],
   "source": [
    "train.antiguedad=pd.to_numeric(train.antiguedad,errors=\"coerce\")"
   ]
  },
  {
   "cell_type": "code",
   "execution_count": 35,
   "metadata": {
    "collapsed": false
   },
   "outputs": [
    {
     "data": {
      "text/plain": [
       "10.0     54234\n",
       "21.0     49451\n",
       "33.0     47214\n",
       "45.0     42845\n",
       "8.0      42121\n",
       "12.0     41096\n",
       "9.0      38828\n",
       "44.0     37409\n",
       "43.0     36581\n",
       "20.0     36544\n",
       "22.0     36363\n",
       "34.0     35024\n",
       "32.0     34802\n",
       "46.0     33958\n",
       "7.0      33138\n",
       "31.0     32852\n",
       "23.0     32225\n",
       "19.0     29289\n",
       "36.0     26590\n",
       "35.0     25832\n",
       "24.0     24003\n",
       "18.0     21467\n",
       "6.0      19474\n",
       "47.0     18336\n",
       "55.0     17686\n",
       "30.0     17127\n",
       "54.0     16210\n",
       "42.0     16030\n",
       "48.0     15206\n",
       "11.0     14381\n",
       "         ...  \n",
       "237.0     2150\n",
       "224.0     1961\n",
       "232.0     1944\n",
       "228.0     1797\n",
       "229.0     1789\n",
       "234.0     1783\n",
       "230.0     1728\n",
       "238.0     1686\n",
       "241.0     1621\n",
       "233.0     1543\n",
       "226.0     1543\n",
       "227.0     1399\n",
       "236.0     1237\n",
       "240.0     1146\n",
       "247.0     1114\n",
       "242.0      986\n",
       "239.0      978\n",
       "244.0      912\n",
       "245.0      842\n",
       "246.0      771\n",
       "243.0      748\n",
       "248.0      616\n",
       "251.0      435\n",
       "250.0      420\n",
       "252.0      253\n",
       "249.0      207\n",
       "253.0      151\n",
       "256.0      102\n",
       "254.0       85\n",
       "255.0       77\n",
       "Name: antiguedad, dtype: int64"
      ]
     },
     "execution_count": 35,
     "metadata": {},
     "output_type": "execute_result"
    }
   ],
   "source": [
    "train.antiguedad.value_counts()"
   ]
  },
  {
   "cell_type": "markdown",
   "metadata": {},
   "source": [
    "bad data - antiguedad=-999999"
   ]
  },
  {
   "cell_type": "code",
   "execution_count": 34,
   "metadata": {
    "collapsed": false
   },
   "outputs": [],
   "source": [
    "train.loc[train[\"antiguedad\"]== -999999,\"antiguedad\"]=train.antiguedad.median()"
   ]
  },
  {
   "cell_type": "markdown",
   "metadata": {},
   "source": [
    "ult_fec_cli_1t - Last date as primary customer (if he isn't at the end of the month)\n",
    "conyuemp - Spouse index. 1 if the customer is spouse of an employee\n",
    "most of the data are missing, so deleting those two columns"
   ]
  },
  {
   "cell_type": "code",
   "execution_count": 36,
   "metadata": {
    "collapsed": true
   },
   "outputs": [],
   "source": [
    "del train['ult_fec_cli_1t']\n",
    "del train['conyuemp']"
   ]
  },
  {
   "cell_type": "markdown",
   "metadata": {},
   "source": [
    "renta - Gross income of the household"
   ]
  },
  {
   "cell_type": "code",
   "execution_count": 38,
   "metadata": {
    "collapsed": false
   },
   "outputs": [],
   "source": [
    "province_income=pd.read_csv('./data/train_ver2.csv',usecols=['cod_prov','renta'],dtype={'cod_prov':str,'renta':'float32'})"
   ]
  },
  {
   "cell_type": "code",
   "execution_count": 49,
   "metadata": {
    "collapsed": false
   },
   "outputs": [],
   "source": [
    "incomes=province_income.loc[province_income.renta.notnull(),:].groupby(\"cod_prov\").agg({'renta':{'MedianIncome':'median'}})"
   ]
  },
  {
   "cell_type": "code",
   "execution_count": 51,
   "metadata": {
    "collapsed": false
   },
   "outputs": [],
   "source": [
    "grouped=train.groupby('cod_prov').agg({'renta':lambda x: x.median(skipna=True)}).reset_index()"
   ]
  },
  {
   "cell_type": "code",
   "execution_count": 69,
   "metadata": {
    "collapsed": false
   },
   "outputs": [],
   "source": [
    "new_incomes=pd.merge(train,grouped,how=\"left\",on=\"cod_prov\")"
   ]
  },
  {
   "cell_type": "code",
   "execution_count": 105,
   "metadata": {
    "collapsed": false
   },
   "outputs": [],
   "source": [
    "new_incomes=new_incomes.rename(columns={\"renta_y\":\"renta\"}).sort_values(\"renta\").sort_values(\"cod_prov\")"
   ]
  },
  {
   "cell_type": "code",
   "execution_count": 63,
   "metadata": {
    "collapsed": false
   },
   "outputs": [],
   "source": [
    "train.sort_values(\"cod_prov\",inplace=True)\n",
    "train=train.reset_index()\n",
    "new_incomes=new_incomes.reset_index()\n"
   ]
  },
  {
   "cell_type": "code",
   "execution_count": 108,
   "metadata": {
    "collapsed": false
   },
   "outputs": [],
   "source": [
    "train.loc[train.renta.isnull(),\"renta\"] = new_incomes.loc[train.renta.isnull(),\"renta\"].reset_index()\n",
    "train.loc[train.renta.isnull(),\"renta\"] = train.loc[train.renta.notnull(),\"renta\"].median()\n",
    "train.sort_values(by=\"fecha_dato\",inplace=True)"
   ]
  },
  {
   "cell_type": "code",
   "execution_count": 100,
   "metadata": {
    "collapsed": false
   },
   "outputs": [],
   "source": [
    "for i in np.arange(len(new_incomes)):\n",
    "    if math.isnan(new_incomes.renta_x):\n",
    "        new_incomes.loc[i,'renta_x']=new_incomes.loc[i,'renta_y']"
   ]
  },
  {
   "cell_type": "code",
   "execution_count": 114,
   "metadata": {
    "collapsed": false
   },
   "outputs": [
    {
     "data": {
      "text/plain": [
       "index                        0\n",
       "fecha_dato                   0\n",
       "ncodpers                     0\n",
       "ind_empleado              5458\n",
       "pais_residencia           5458\n",
       "sexo                      5469\n",
       "age                          0\n",
       "fecha_alta                5458\n",
       "ind_nuevo                    0\n",
       "antiguedad                5458\n",
       "indrel                    5458\n",
       "indrel_1mes               9468\n",
       "tiprel_1mes               9468\n",
       "indresi                   5458\n",
       "indext                    5458\n",
       "canal_entrada            12207\n",
       "indfall                   5458\n",
       "tipodom                   5458\n",
       "cod_prov                 16803\n",
       "nomprov                  16803\n",
       "ind_actividad_cliente     5458\n",
       "renta                        0\n",
       "segmento                 12512\n",
       "ind_ahor_fin_ult1            0\n",
       "ind_aval_fin_ult1            0\n",
       "ind_cco_fin_ult1             0\n",
       "ind_cder_fin_ult1            0\n",
       "ind_cno_fin_ult1             0\n",
       "ind_ctju_fin_ult1            0\n",
       "ind_ctma_fin_ult1            0\n",
       "ind_ctop_fin_ult1            0\n",
       "ind_ctpp_fin_ult1            0\n",
       "ind_deco_fin_ult1            0\n",
       "ind_deme_fin_ult1            0\n",
       "ind_dela_fin_ult1            0\n",
       "ind_ecue_fin_ult1            0\n",
       "ind_fond_fin_ult1            0\n",
       "ind_hip_fin_ult1             0\n",
       "ind_plan_fin_ult1            0\n",
       "ind_pres_fin_ult1            0\n",
       "ind_reca_fin_ult1            0\n",
       "ind_tjcr_fin_ult1            0\n",
       "ind_valo_fin_ult1            0\n",
       "ind_viv_fin_ult1             0\n",
       "ind_nomina_ult1           4631\n",
       "ind_nom_pens_ult1         4631\n",
       "ind_recibo_ult1\\n            0\n",
       "dtype: int64"
      ]
     },
     "execution_count": 114,
     "metadata": {},
     "output_type": "execute_result"
    }
   ],
   "source": [
    "train.isnull().sum()"
   ]
  },
  {
   "cell_type": "markdown",
   "metadata": {},
   "source": [
    "ind_nomina_ult1/ind_nom_pens_ult1"
   ]
  },
  {
   "cell_type": "code",
   "execution_count": 115,
   "metadata": {
    "collapsed": true
   },
   "outputs": [],
   "source": [
    "\n",
    "train.loc[train.ind_nomina_ult1.isnull(),'ind_nomina_ult1']=0\n",
    "train.loc[train.ind_nom_pens_ult1.isnull(),'ind_nom_pens_ult1']=0"
   ]
  },
  {
   "cell_type": "markdown",
   "metadata": {},
   "source": [
    "delete bad records(missing ind_empleado, pais_residencia, sexo ...)"
   ]
  },
  {
   "cell_type": "code",
   "execution_count": 116,
   "metadata": {
    "collapsed": true
   },
   "outputs": [],
   "source": [
    "train=train.loc[train.ind_empleado.notnull(),:].reset_index()"
   ]
  },
  {
   "cell_type": "code",
   "execution_count": 117,
   "metadata": {
    "collapsed": false
   },
   "outputs": [
    {
     "data": {
      "text/plain": [
       "level_0                      0\n",
       "index                        0\n",
       "fecha_dato                   0\n",
       "ncodpers                     0\n",
       "ind_empleado                 0\n",
       "pais_residencia              0\n",
       "sexo                        11\n",
       "age                          0\n",
       "fecha_alta                   0\n",
       "ind_nuevo                    0\n",
       "antiguedad                   0\n",
       "indrel                       0\n",
       "indrel_1mes               4010\n",
       "tiprel_1mes               4010\n",
       "indresi                      0\n",
       "indext                       0\n",
       "canal_entrada             6749\n",
       "indfall                      0\n",
       "tipodom                      0\n",
       "cod_prov                 11345\n",
       "nomprov                  11345\n",
       "ind_actividad_cliente        0\n",
       "renta                        0\n",
       "segmento                  7054\n",
       "ind_ahor_fin_ult1            0\n",
       "ind_aval_fin_ult1            0\n",
       "ind_cco_fin_ult1             0\n",
       "ind_cder_fin_ult1            0\n",
       "ind_cno_fin_ult1             0\n",
       "ind_ctju_fin_ult1            0\n",
       "ind_ctma_fin_ult1            0\n",
       "ind_ctop_fin_ult1            0\n",
       "ind_ctpp_fin_ult1            0\n",
       "ind_deco_fin_ult1            0\n",
       "ind_deme_fin_ult1            0\n",
       "ind_dela_fin_ult1            0\n",
       "ind_ecue_fin_ult1            0\n",
       "ind_fond_fin_ult1            0\n",
       "ind_hip_fin_ult1             0\n",
       "ind_plan_fin_ult1            0\n",
       "ind_pres_fin_ult1            0\n",
       "ind_reca_fin_ult1            0\n",
       "ind_tjcr_fin_ult1            0\n",
       "ind_valo_fin_ult1            0\n",
       "ind_viv_fin_ult1             0\n",
       "ind_nomina_ult1              0\n",
       "ind_nom_pens_ult1            0\n",
       "ind_recibo_ult1\\n            0\n",
       "dtype: int64"
      ]
     },
     "execution_count": 117,
     "metadata": {},
     "output_type": "execute_result"
    }
   ],
   "source": [
    "train.isnull().sum()"
   ]
  },
  {
   "cell_type": "markdown",
   "metadata": {},
   "source": [
    "## Explore categorical fields:"
   ]
  },
  {
   "cell_type": "code",
   "execution_count": null,
   "metadata": {
    "collapsed": false
   },
   "outputs": [
    {
     "name": "stdout",
     "output_type": "stream",
     "text": [
      "('Number of unique values in', 'sexo', ':', 3)\n"
     ]
    }
   ],
   "source": [
    "cols = [\"sexo\",\"indrel_1mes\",\"tiprel_1mes\",\"canal_entrada\",\"cod_prov\",\"nomprov\",\"segmento\"]\n",
    "for i in cols:\n",
    "    catg=train.loc[:,i].fillna(-99)\n",
    "    len_unique=len(train[i].unique())\n",
    "    print(\"Number of unique values in\", i, \":\", len_unique)\n",
    "    if len_unique<200:\n",
    "        agg_df=train[i].value_counts()\n",
    "        plt.figure(figsize=(12,6))\n",
    "        sns.barplot(agg_df.index,np.log1p(agg_df.values),alpha=0.8)\n",
    "        plt.xlabel(i,fontsize=12)\n",
    "        plt.ylabel('Log(Number of occurence)',fontsize=12)\n",
    "        plt.xticks(rotation='vertical')\n",
    "        plt.show()\n",
    "    print()\n",
    "\n",
    "        "
   ]
  },
  {
   "cell_type": "code",
   "execution_count": null,
   "metadata": {
    "collapsed": true
   },
   "outputs": [],
   "source": [
    "catg=train.loc[:,\"sexo\"].fillna(-99)"
   ]
  },
  {
   "cell_type": "code",
   "execution_count": null,
   "metadata": {
    "collapsed": true
   },
   "outputs": [],
   "source": []
  }
 ],
 "metadata": {
  "kernelspec": {
   "display_name": "Python [Root]",
   "language": "python",
   "name": "Python [Root]"
  },
  "language_info": {
   "codemirror_mode": {
    "name": "ipython",
    "version": 2
   },
   "file_extension": ".py",
   "mimetype": "text/x-python",
   "name": "python",
   "nbconvert_exporter": "python",
   "pygments_lexer": "ipython2",
   "version": "2.7.13"
  }
 },
 "nbformat": 4,
 "nbformat_minor": 0
}
